{
 "cells": [
  {
   "cell_type": "code",
   "execution_count": 6,
   "metadata": {},
   "outputs": [],
   "source": [
    "import numpy as np"
   ]
  },
  {
   "cell_type": "code",
   "execution_count": 42,
   "metadata": {},
   "outputs": [],
   "source": [
    "#Generate data from a Gaussian, fit a covariance matrix and simulate data from it\n",
    "def generate_data(n_classes,dim,n_samples):\n",
    "    #Generate random positive semi-definite matrix\n",
    "    data=[]\n",
    "    for cl in range(n_classes):\n",
    "        A = np.random.rand(dim, dim)\n",
    "        cov = A@A.T\n",
    "        mean=np.random.rand(dim)\n",
    "        data.append(np.random.multivariate_normal(mean,cov,size=(n_samples)))\n",
    "    return data\n",
    "    \n",
    "#Convenience functions\n",
    "def calc_cov(n_classes,data):\n",
    "    covs=[]\n",
    "    for cl in range(n_classes):\n",
    "        covs.append(np.cov(data[cl].T))\n",
    "    return covs\n",
    "\n",
    "def calc_mean(n_classes,data):\n",
    "    means=[]\n",
    "    for cl in range(n_classes):\n",
    "        means.append(np.mean(data[cl],axis=0))\n",
    "    return means\n",
    "\n",
    "def simulate(n_classes,covs,means,n_samples):\n",
    "    sim_data=[]\n",
    "    for cl in range(n_classes):\n",
    "        sim_data.append(np.random.multivariate_normal(means[cl],covs[cl],size=(n_samples)))\n",
    "    return sim_data"
   ]
  },
  {
   "cell_type": "code",
   "execution_count": 43,
   "metadata": {},
   "outputs": [],
   "source": [
    "n_classes=3\n",
    "dim=10\n",
    "n_samples=1000\n",
    "data=generate_data(n_classes,dim,n_samples)\n",
    "covs=calc_cov(n_classes,data)\n",
    "means=calc_mean(n_classes,data)\n",
    "sim_data=simulate(n_classes,covs,means,n_samples)"
   ]
  },
  {
   "cell_type": "code",
   "execution_count": 46,
   "metadata": {
    "scrolled": true
   },
   "outputs": [
    {
     "name": "stdout",
     "output_type": "stream",
     "text": [
      "(1000, 10)\n",
      "(1000, 10)\n"
     ]
    }
   ],
   "source": [
    "print(sim_data[0].shape)\n",
    "print(data[0].shape)"
   ]
  },
  {
   "cell_type": "code",
   "execution_count": 47,
   "metadata": {},
   "outputs": [
    {
     "data": {
      "text/plain": [
       "(array([ 12.,  36., 118., 192., 248., 202., 139.,  44.,   6.,   3.]),\n",
       " array([-3.09390593, -2.29486932, -1.49583271, -0.6967961 ,  0.1022405 ,\n",
       "         0.90127711,  1.70031372,  2.49935033,  3.29838693,  4.09742354,\n",
       "         4.89646015]),\n",
       " <a list of 10 Patch objects>)"
      ]
     },
     "execution_count": 47,
     "metadata": {},
     "output_type": "execute_result"
    },
    {
     "data": {
      "image/png": "[encoded data removed]",
      "text/plain": [
       "<Figure size 432x288 with 1 Axes>"
      ]
     },
     "metadata": {
      "needs_background": "light"
     },
     "output_type": "display_data"
    }
   ],
   "source": [
    "import matplotlib.pyplot as plt\n",
    "plt.hist(sim_data[0][:,0])\n",
    "plt.hist(data[0][:,0])"
   ]
  }
 ],
 "metadata": {
  "kernelspec": {
   "display_name": "Python 3",
   "language": "python",
   "name": "python3"
  },
  "language_info": {
   "codemirror_mode": {
    "name": "ipython",
    "version": 3
   },
   "file_extension": ".py",
   "mimetype": "text/x-python",
   "name": "python",
   "nbconvert_exporter": "python",
   "pygments_lexer": "ipython3",
   "version": "3.7.7"
  }
 },
 "nbformat": 4,
 "nbformat_minor": 4
}
